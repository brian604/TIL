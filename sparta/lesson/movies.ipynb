{
 "cells": [
  {
   "cell_type": "code",
   "execution_count": 16,
   "metadata": {},
   "outputs": [],
   "source": [
    "import requests \n",
    "import bs4\n",
    "import pymongo\n",
    "client = pymongo.MongoClient(\"localhost\", 27017)"
   ]
  },
  {
   "cell_type": "code",
   "execution_count": 6,
   "metadata": {},
   "outputs": [],
   "source": [
    "response = requests.get('https://movie.naver.com/movie/sdb/rank/rmovie.nhn?sel=pnt&date=20200203')\n",
    "soup = bs4.BeautifulSoup(response.text,'html.parser')"
   ]
  },
  {
   "cell_type": "code",
   "execution_count": 23,
   "metadata": {},
   "outputs": [
    {
     "name": "stdout",
     "output_type": "stream",
     "text": [
      "{'title': '그린 북', 'score': 9.61, 'link': 'https://movie.naver.com/movie/bi/mi/basic.nhn?code=171539', '_id': ObjectId('5e395e7d72d41fbf18d4c99f')}\n",
      "{'title': '가버나움', 'score': 9.59, 'link': 'https://movie.naver.com/movie/bi/mi/basic.nhn?code=174830', '_id': ObjectId('5e395e7d72d41fbf18d4c9a0')}\n",
      "{'title': '베일리 어게인', 'score': 9.53, 'link': 'https://movie.naver.com/movie/bi/mi/basic.nhn?code=144906', '_id': ObjectId('5e395e7d72d41fbf18d4c9a1')}\n",
      "{'title': '포드 V 페라리', 'score': 9.52, 'link': 'https://movie.naver.com/movie/bi/mi/basic.nhn?code=181710', '_id': ObjectId('5e395e7d72d41fbf18d4c9a2')}\n",
      "{'title': '주전장', 'score': 9.51, 'link': 'https://movie.naver.com/movie/bi/mi/basic.nhn?code=179518', '_id': ObjectId('5e395e7d72d41fbf18d4c9a3')}\n",
      "{'title': '아일라', 'score': 9.49, 'link': 'https://movie.naver.com/movie/bi/mi/basic.nhn?code=169240', '_id': ObjectId('5e395e7d72d41fbf18d4c9a4')}\n",
      "{'title': '원더', 'score': 9.48, 'link': 'https://movie.naver.com/movie/bi/mi/basic.nhn?code=151196', '_id': ObjectId('5e395e7d72d41fbf18d4c9a5')}\n",
      "{'title': '당갈', 'score': 9.46, 'link': 'https://movie.naver.com/movie/bi/mi/basic.nhn?code=157243', '_id': ObjectId('5e395e7d72d41fbf18d4c9a6')}\n",
      "{'title': '쇼생크 탈출', 'score': 9.43, 'link': 'https://movie.naver.com/movie/bi/mi/basic.nhn?code=17421', '_id': ObjectId('5e395e7d72d41fbf18d4c9a7')}\n",
      "{'title': '터미네이터 2:오리지널', 'score': 9.43, 'link': 'https://movie.naver.com/movie/bi/mi/basic.nhn?code=10200', '_id': ObjectId('5e395e7d72d41fbf18d4c9a8')}\n",
      "{'title': '보헤미안 랩소디', 'score': 9.42, 'link': 'https://movie.naver.com/movie/bi/mi/basic.nhn?code=156464', '_id': ObjectId('5e395e7d72d41fbf18d4c9a9')}\n",
      "{'title': '덕구', 'score': 9.41, 'link': 'https://movie.naver.com/movie/bi/mi/basic.nhn?code=154667', '_id': ObjectId('5e395e7d72d41fbf18d4c9aa')}\n",
      "{'title': '나 홀로 집에', 'score': 9.41, 'link': 'https://movie.naver.com/movie/bi/mi/basic.nhn?code=10016', '_id': ObjectId('5e395e7d72d41fbf18d4c9ab')}\n",
      "{'title': '월-E', 'score': 9.4, 'link': 'https://movie.naver.com/movie/bi/mi/basic.nhn?code=69105', '_id': ObjectId('5e395e7d72d41fbf18d4c9ac')}\n",
      "{'title': '빽 투 더 퓨쳐', 'score': 9.4, 'link': 'https://movie.naver.com/movie/bi/mi/basic.nhn?code=10002', '_id': ObjectId('5e395e7d72d41fbf18d4c9ad')}\n",
      "{'title': '인생은 아름다워', 'score': 9.4, 'link': 'https://movie.naver.com/movie/bi/mi/basic.nhn?code=22126', '_id': ObjectId('5e395e7d72d41fbf18d4c9ae')}\n",
      "{'title': '살인의 추억', 'score': 9.4, 'link': 'https://movie.naver.com/movie/bi/mi/basic.nhn?code=35901', '_id': ObjectId('5e395e7d72d41fbf18d4c9af')}\n",
      "{'title': '매트릭스', 'score': 9.39, 'link': 'https://movie.naver.com/movie/bi/mi/basic.nhn?code=24452', '_id': ObjectId('5e395e7d72d41fbf18d4c9b0')}\n",
      "{'title': '라이언 일병 구하기', 'score': 9.39, 'link': 'https://movie.naver.com/movie/bi/mi/basic.nhn?code=18988', '_id': ObjectId('5e395e7d72d41fbf18d4c9b1')}\n",
      "{'title': '포레스트 검프', 'score': 9.39, 'link': 'https://movie.naver.com/movie/bi/mi/basic.nhn?code=17159', '_id': ObjectId('5e395e7d72d41fbf18d4c9b2')}\n",
      "{'title': '헬프', 'score': 9.39, 'link': 'https://movie.naver.com/movie/bi/mi/basic.nhn?code=82432', '_id': ObjectId('5e395e7d72d41fbf18d4c9b3')}\n",
      "{'title': '사운드 오브 뮤직', 'score': 9.39, 'link': 'https://movie.naver.com/movie/bi/mi/basic.nhn?code=10102', '_id': ObjectId('5e395e7d72d41fbf18d4c9b4')}\n",
      "{'title': '글래디에이터', 'score': 9.39, 'link': 'https://movie.naver.com/movie/bi/mi/basic.nhn?code=29217', '_id': ObjectId('5e395e7d72d41fbf18d4c9b5')}\n",
      "{'title': '안녕 베일리', 'score': 9.39, 'link': 'https://movie.naver.com/movie/bi/mi/basic.nhn?code=181700', '_id': ObjectId('5e395e7d72d41fbf18d4c9b6')}\n",
      "{'title': '위대한 쇼맨', 'score': 9.38, 'link': 'https://movie.naver.com/movie/bi/mi/basic.nhn?code=106360', '_id': ObjectId('5e395e7d72d41fbf18d4c9b7')}\n",
      "{'title': '센과 치히로의 행방불명', 'score': 9.38, 'link': 'https://movie.naver.com/movie/bi/mi/basic.nhn?code=32686', '_id': ObjectId('5e395e7d72d41fbf18d4c9b8')}\n",
      "{'title': '어벤져스: 엔드게임', 'score': 9.38, 'link': 'https://movie.naver.com/movie/bi/mi/basic.nhn?code=136900', '_id': ObjectId('5e395e7d72d41fbf18d4c9b9')}\n",
      "{'title': '알라딘', 'score': 9.38, 'link': 'https://movie.naver.com/movie/bi/mi/basic.nhn?code=163788', '_id': ObjectId('5e395e7d72d41fbf18d4c9ba')}\n",
      "{'title': '토이 스토리 3', 'score': 9.38, 'link': 'https://movie.naver.com/movie/bi/mi/basic.nhn?code=66463', '_id': ObjectId('5e395e7d72d41fbf18d4c9bb')}\n",
      "{'title': '헌터 킬러', 'score': 9.38, 'link': 'https://movie.naver.com/movie/bi/mi/basic.nhn?code=92125', '_id': ObjectId('5e395e7d72d41fbf18d4c9bc')}\n",
      "{'title': '클래식', 'score': 9.38, 'link': 'https://movie.naver.com/movie/bi/mi/basic.nhn?code=35939', '_id': ObjectId('5e395e7d72d41fbf18d4c9bd')}\n",
      "{'title': '죽은 시인의 사회', 'score': 9.37, 'link': 'https://movie.naver.com/movie/bi/mi/basic.nhn?code=10048', '_id': ObjectId('5e395e7d72d41fbf18d4c9be')}\n",
      "{'title': '레옹', 'score': 9.37, 'link': 'https://movie.naver.com/movie/bi/mi/basic.nhn?code=17170', '_id': ObjectId('5e395e7d72d41fbf18d4c9bf')}\n",
      "{'title': '아이 캔 스피크', 'score': 9.37, 'link': 'https://movie.naver.com/movie/bi/mi/basic.nhn?code=161850', '_id': ObjectId('5e395e7d72d41fbf18d4c9c0')}\n",
      "{'title': '두 교황', 'score': 9.37, 'link': 'https://movie.naver.com/movie/bi/mi/basic.nhn?code=189111', '_id': ObjectId('5e395e7d72d41fbf18d4c9c1')}\n",
      "{'title': '반지의 제왕: 왕의 귀환', 'score': 9.37, 'link': 'https://movie.naver.com/movie/bi/mi/basic.nhn?code=31796', '_id': ObjectId('5e395e7d72d41fbf18d4c9c2')}\n",
      "{'title': '동주', 'score': 9.37, 'link': 'https://movie.naver.com/movie/bi/mi/basic.nhn?code=134899', '_id': ObjectId('5e395e7d72d41fbf18d4c9c3')}\n",
      "{'title': '캐스트 어웨이', 'score': 9.36, 'link': 'https://movie.naver.com/movie/bi/mi/basic.nhn?code=31162', '_id': ObjectId('5e395e7d72d41fbf18d4c9c4')}\n",
      "{'title': '여인의 향기', 'score': 9.36, 'link': 'https://movie.naver.com/movie/bi/mi/basic.nhn?code=12482', '_id': ObjectId('5e395e7d72d41fbf18d4c9c5')}\n",
      "{'title': '타이타닉', 'score': 9.36, 'link': 'https://movie.naver.com/movie/bi/mi/basic.nhn?code=18847', '_id': ObjectId('5e395e7d72d41fbf18d4c9c6')}\n",
      "{'title': '굿바이 마이 프랜드', 'score': 9.35, 'link': 'https://movie.naver.com/movie/bi/mi/basic.nhn?code=17541', '_id': ObjectId('5e395e7d72d41fbf18d4c9c7')}\n",
      "{'title': '스파이 지니어스', 'score': 9.35, 'link': 'https://movie.naver.com/movie/bi/mi/basic.nhn?code=172780', '_id': ObjectId('5e395e7d72d41fbf18d4c9c8')}\n",
      "{'title': '집으로...', 'score': 9.35, 'link': 'https://movie.naver.com/movie/bi/mi/basic.nhn?code=34324', '_id': ObjectId('5e395e7d72d41fbf18d4c9c9')}\n",
      "{'title': '주토피아', 'score': 9.35, 'link': 'https://movie.naver.com/movie/bi/mi/basic.nhn?code=130850', '_id': ObjectId('5e395e7d72d41fbf18d4c9ca')}\n",
      "{'title': '서유기 2 - 선리기연', 'score': 9.35, 'link': 'https://movie.naver.com/movie/bi/mi/basic.nhn?code=18543', '_id': ObjectId('5e395e7d72d41fbf18d4c9cb')}\n",
      "{'title': '클레멘타인', 'score': 9.35, 'link': 'https://movie.naver.com/movie/bi/mi/basic.nhn?code=37886', '_id': ObjectId('5e395e7d72d41fbf18d4c9cc')}\n",
      "{'title': '굿 윌 헌팅', 'score': 9.35, 'link': 'https://movie.naver.com/movie/bi/mi/basic.nhn?code=19079', '_id': ObjectId('5e395e7d72d41fbf18d4c9cd')}\n",
      "{'title': '세 얼간이', 'score': 9.35, 'link': 'https://movie.naver.com/movie/bi/mi/basic.nhn?code=73372', '_id': ObjectId('5e395e7d72d41fbf18d4c9ce')}\n",
      "{'title': '히든 피겨스', 'score': 9.35, 'link': 'https://movie.naver.com/movie/bi/mi/basic.nhn?code=147092', '_id': ObjectId('5e395e7d72d41fbf18d4c9cf')}\n",
      "{'title': '달링', 'score': 9.34, 'link': 'https://movie.naver.com/movie/bi/mi/basic.nhn?code=152655', '_id': ObjectId('5e395e7d72d41fbf18d4c9d0')}\n"
     ]
    }
   ],
   "source": [
    "ranks = soup.select('table.list_ranking tr')\n",
    "for rank in ranks:\n",
    "    title = rank.select_one('div.tit5 a')\n",
    "    score = rank.select_one('td.point') #td의 class는 포인트 \n",
    "    if title is not None:\n",
    "        movie ={'title': title.text,\n",
    "               'score': float(score.text),\n",
    "               'link': 'https://movie.naver.com'+ title['href']} # 실행 늦게 되어 href 없는 duplicate 형성\n",
    "        client.sparta.movies.insert_one(movie)\n",
    "        print(movie)"
   ]
  },
  {
   "cell_type": "code",
   "execution_count": 50,
   "metadata": {},
   "outputs": [
    {
     "data": {
      "text/plain": [
       "pymongo.collection.Collection"
      ]
     },
     "execution_count": 50,
     "metadata": {},
     "output_type": "execute_result"
    }
   ],
   "source": [
    "movies=client.sparta.movies\n",
    "type(movies)"
   ]
  },
  {
   "cell_type": "code",
   "execution_count": 45,
   "metadata": {},
   "outputs": [],
   "source": [
    "all_movies = list(movies.find({}, {'_id': False}))"
   ]
  },
  {
   "cell_type": "code",
   "execution_count": 58,
   "metadata": {},
   "outputs": [
    {
     "name": "stdout",
     "output_type": "stream",
     "text": [
      "{'_id': ObjectId('5e395d3c72d41fbf18d4c948'), 'title': '월-E', 'score': 9.4}\n",
      "{'_id': ObjectId('5e395d3c72d41fbf18d4c949'), 'title': '빽 투 더 퓨쳐', 'score': 9.4}\n",
      "{'_id': ObjectId('5e395d3c72d41fbf18d4c94a'), 'title': '인생은 아름다워', 'score': 9.4}\n",
      "{'_id': ObjectId('5e395d3c72d41fbf18d4c94b'), 'title': '살인의 추억', 'score': 9.4}\n",
      "{'_id': ObjectId('5e395d3c72d41fbf18d4c94c'), 'title': '매트릭스', 'score': 9.39}\n",
      "{'_id': ObjectId('5e395d3c72d41fbf18d4c94d'), 'title': '라이언 일병 구하기', 'score': 9.39}\n",
      "{'_id': ObjectId('5e395d3c72d41fbf18d4c94e'), 'title': '포레스트 검프', 'score': 9.39}\n",
      "{'_id': ObjectId('5e395d3c72d41fbf18d4c94f'), 'title': '헬프', 'score': 9.39}\n",
      "{'_id': ObjectId('5e395d3c72d41fbf18d4c950'), 'title': '사운드 오브 뮤직', 'score': 9.39}\n",
      "{'_id': ObjectId('5e395d3c72d41fbf18d4c951'), 'title': '글래디에이터', 'score': 9.39}\n",
      "{'_id': ObjectId('5e395d3c72d41fbf18d4c952'), 'title': '안녕 베일리', 'score': 9.39}\n",
      "{'_id': ObjectId('5e395d3c72d41fbf18d4c953'), 'title': '위대한 쇼맨', 'score': 9.38}\n",
      "{'_id': ObjectId('5e395d3c72d41fbf18d4c954'), 'title': '센과 치히로의 행방불명', 'score': 9.38}\n",
      "{'_id': ObjectId('5e395d3c72d41fbf18d4c955'), 'title': '어벤져스: 엔드게임', 'score': 9.38}\n",
      "{'_id': ObjectId('5e395d3c72d41fbf18d4c956'), 'title': '알라딘', 'score': 9.38}\n",
      "{'_id': ObjectId('5e395d3c72d41fbf18d4c957'), 'title': '토이 스토리 3', 'score': 9.38}\n",
      "{'_id': ObjectId('5e395d3c72d41fbf18d4c958'), 'title': '헌터 킬러', 'score': 9.38}\n",
      "{'_id': ObjectId('5e395d3c72d41fbf18d4c959'), 'title': '클래식', 'score': 9.38}\n",
      "{'_id': ObjectId('5e395d3c72d41fbf18d4c95a'), 'title': '죽은 시인의 사회', 'score': 9.37}\n",
      "{'_id': ObjectId('5e395d3c72d41fbf18d4c95b'), 'title': '레옹', 'score': 9.37}\n",
      "{'_id': ObjectId('5e395d3c72d41fbf18d4c95c'), 'title': '아이 캔 스피크', 'score': 9.37}\n",
      "{'_id': ObjectId('5e395d3c72d41fbf18d4c95d'), 'title': '두 교황', 'score': 9.37}\n",
      "{'_id': ObjectId('5e395d3c72d41fbf18d4c95e'), 'title': '반지의 제왕: 왕의 귀환', 'score': 9.37}\n",
      "{'_id': ObjectId('5e395d3c72d41fbf18d4c95f'), 'title': '동주', 'score': 9.37}\n",
      "{'_id': ObjectId('5e395d3c72d41fbf18d4c960'), 'title': '캐스트 어웨이', 'score': 9.36}\n",
      "{'_id': ObjectId('5e395d3c72d41fbf18d4c961'), 'title': '여인의 향기', 'score': 9.36}\n",
      "{'_id': ObjectId('5e395d3c72d41fbf18d4c962'), 'title': '타이타닉', 'score': 9.36}\n",
      "{'_id': ObjectId('5e395d3c72d41fbf18d4c963'), 'title': '굿바이 마이 프랜드', 'score': 9.35}\n",
      "{'_id': ObjectId('5e395d3c72d41fbf18d4c964'), 'title': '스파이 지니어스', 'score': 9.35}\n",
      "{'_id': ObjectId('5e395d3c72d41fbf18d4c965'), 'title': '집으로...', 'score': 9.35}\n",
      "{'_id': ObjectId('5e395d3c72d41fbf18d4c966'), 'title': '주토피아', 'score': 9.35}\n",
      "{'_id': ObjectId('5e395d3c72d41fbf18d4c967'), 'title': '서유기 2 - 선리기연', 'score': 9.35}\n",
      "{'_id': ObjectId('5e395d3c72d41fbf18d4c968'), 'title': '클레멘타인', 'score': 9.35}\n",
      "{'_id': ObjectId('5e395d3c72d41fbf18d4c969'), 'title': '굿 윌 헌팅', 'score': 9.35}\n",
      "{'_id': ObjectId('5e395d3c72d41fbf18d4c96a'), 'title': '세 얼간이', 'score': 9.35}\n",
      "{'_id': ObjectId('5e395d3c72d41fbf18d4c96b'), 'title': '히든 피겨스', 'score': 9.35}\n",
      "{'_id': ObjectId('5e395d3c72d41fbf18d4c96c'), 'title': '달링', 'score': 9.34}\n",
      "{'_id': ObjectId('5e395e4d72d41fbf18d4c97a'), 'title': '월-E', 'score': 9.4, 'link': 'https://mvoie.naver.com/movie/bi/mi/basic.nhn?code=69105'}\n",
      "{'_id': ObjectId('5e395e4d72d41fbf18d4c97b'), 'title': '빽 투 더 퓨쳐', 'score': 9.4, 'link': 'https://mvoie.naver.com/movie/bi/mi/basic.nhn?code=10002'}\n",
      "{'_id': ObjectId('5e395e4d72d41fbf18d4c97c'), 'title': '인생은 아름다워', 'score': 9.4, 'link': 'https://mvoie.naver.com/movie/bi/mi/basic.nhn?code=22126'}\n",
      "{'_id': ObjectId('5e395e4d72d41fbf18d4c97d'), 'title': '살인의 추억', 'score': 9.4, 'link': 'https://mvoie.naver.com/movie/bi/mi/basic.nhn?code=35901'}\n",
      "{'_id': ObjectId('5e395e4d72d41fbf18d4c97e'), 'title': '매트릭스', 'score': 9.39, 'link': 'https://mvoie.naver.com/movie/bi/mi/basic.nhn?code=24452'}\n",
      "{'_id': ObjectId('5e395e4d72d41fbf18d4c97f'), 'title': '라이언 일병 구하기', 'score': 9.39, 'link': 'https://mvoie.naver.com/movie/bi/mi/basic.nhn?code=18988'}\n",
      "{'_id': ObjectId('5e395e4d72d41fbf18d4c980'), 'title': '포레스트 검프', 'score': 9.39, 'link': 'https://mvoie.naver.com/movie/bi/mi/basic.nhn?code=17159'}\n",
      "{'_id': ObjectId('5e395e4d72d41fbf18d4c981'), 'title': '헬프', 'score': 9.39, 'link': 'https://mvoie.naver.com/movie/bi/mi/basic.nhn?code=82432'}\n",
      "{'_id': ObjectId('5e395e4d72d41fbf18d4c982'), 'title': '사운드 오브 뮤직', 'score': 9.39, 'link': 'https://mvoie.naver.com/movie/bi/mi/basic.nhn?code=10102'}\n",
      "{'_id': ObjectId('5e395e4d72d41fbf18d4c983'), 'title': '글래디에이터', 'score': 9.39, 'link': 'https://mvoie.naver.com/movie/bi/mi/basic.nhn?code=29217'}\n",
      "{'_id': ObjectId('5e395e4d72d41fbf18d4c984'), 'title': '안녕 베일리', 'score': 9.39, 'link': 'https://mvoie.naver.com/movie/bi/mi/basic.nhn?code=181700'}\n",
      "{'_id': ObjectId('5e395e4d72d41fbf18d4c985'), 'title': '위대한 쇼맨', 'score': 9.38, 'link': 'https://mvoie.naver.com/movie/bi/mi/basic.nhn?code=106360'}\n",
      "{'_id': ObjectId('5e395e4d72d41fbf18d4c986'), 'title': '센과 치히로의 행방불명', 'score': 9.38, 'link': 'https://mvoie.naver.com/movie/bi/mi/basic.nhn?code=32686'}\n",
      "{'_id': ObjectId('5e395e4d72d41fbf18d4c987'), 'title': '어벤져스: 엔드게임', 'score': 9.38, 'link': 'https://mvoie.naver.com/movie/bi/mi/basic.nhn?code=136900'}\n",
      "{'_id': ObjectId('5e395e4d72d41fbf18d4c988'), 'title': '알라딘', 'score': 9.38, 'link': 'https://mvoie.naver.com/movie/bi/mi/basic.nhn?code=163788'}\n",
      "{'_id': ObjectId('5e395e4d72d41fbf18d4c989'), 'title': '토이 스토리 3', 'score': 9.38, 'link': 'https://mvoie.naver.com/movie/bi/mi/basic.nhn?code=66463'}\n",
      "{'_id': ObjectId('5e395e4d72d41fbf18d4c98a'), 'title': '헌터 킬러', 'score': 9.38, 'link': 'https://mvoie.naver.com/movie/bi/mi/basic.nhn?code=92125'}\n",
      "{'_id': ObjectId('5e395e4d72d41fbf18d4c98b'), 'title': '클래식', 'score': 9.38, 'link': 'https://mvoie.naver.com/movie/bi/mi/basic.nhn?code=35939'}\n",
      "{'_id': ObjectId('5e395e4d72d41fbf18d4c98c'), 'title': '죽은 시인의 사회', 'score': 9.37, 'link': 'https://mvoie.naver.com/movie/bi/mi/basic.nhn?code=10048'}\n",
      "{'_id': ObjectId('5e395e4d72d41fbf18d4c98d'), 'title': '레옹', 'score': 9.37, 'link': 'https://mvoie.naver.com/movie/bi/mi/basic.nhn?code=17170'}\n",
      "{'_id': ObjectId('5e395e4d72d41fbf18d4c98e'), 'title': '아이 캔 스피크', 'score': 9.37, 'link': 'https://mvoie.naver.com/movie/bi/mi/basic.nhn?code=161850'}\n",
      "{'_id': ObjectId('5e395e4d72d41fbf18d4c98f'), 'title': '두 교황', 'score': 9.37, 'link': 'https://mvoie.naver.com/movie/bi/mi/basic.nhn?code=189111'}\n",
      "{'_id': ObjectId('5e395e4d72d41fbf18d4c990'), 'title': '반지의 제왕: 왕의 귀환', 'score': 9.37, 'link': 'https://mvoie.naver.com/movie/bi/mi/basic.nhn?code=31796'}\n",
      "{'_id': ObjectId('5e395e4d72d41fbf18d4c991'), 'title': '동주', 'score': 9.37, 'link': 'https://mvoie.naver.com/movie/bi/mi/basic.nhn?code=134899'}\n",
      "{'_id': ObjectId('5e395e4d72d41fbf18d4c992'), 'title': '캐스트 어웨이', 'score': 9.36, 'link': 'https://mvoie.naver.com/movie/bi/mi/basic.nhn?code=31162'}\n",
      "{'_id': ObjectId('5e395e4d72d41fbf18d4c993'), 'title': '여인의 향기', 'score': 9.36, 'link': 'https://mvoie.naver.com/movie/bi/mi/basic.nhn?code=12482'}\n",
      "{'_id': ObjectId('5e395e4d72d41fbf18d4c994'), 'title': '타이타닉', 'score': 9.36, 'link': 'https://mvoie.naver.com/movie/bi/mi/basic.nhn?code=18847'}\n",
      "{'_id': ObjectId('5e395e4d72d41fbf18d4c995'), 'title': '굿바이 마이 프랜드', 'score': 9.35, 'link': 'https://mvoie.naver.com/movie/bi/mi/basic.nhn?code=17541'}\n",
      "{'_id': ObjectId('5e395e4d72d41fbf18d4c996'), 'title': '스파이 지니어스', 'score': 9.35, 'link': 'https://mvoie.naver.com/movie/bi/mi/basic.nhn?code=172780'}\n",
      "{'_id': ObjectId('5e395e4d72d41fbf18d4c997'), 'title': '집으로...', 'score': 9.35, 'link': 'https://mvoie.naver.com/movie/bi/mi/basic.nhn?code=34324'}\n",
      "{'_id': ObjectId('5e395e4d72d41fbf18d4c998'), 'title': '주토피아', 'score': 9.35, 'link': 'https://mvoie.naver.com/movie/bi/mi/basic.nhn?code=130850'}\n",
      "{'_id': ObjectId('5e395e4d72d41fbf18d4c999'), 'title': '서유기 2 - 선리기연', 'score': 9.35, 'link': 'https://mvoie.naver.com/movie/bi/mi/basic.nhn?code=18543'}\n",
      "{'_id': ObjectId('5e395e4d72d41fbf18d4c99a'), 'title': '클레멘타인', 'score': 9.35, 'link': 'https://mvoie.naver.com/movie/bi/mi/basic.nhn?code=37886'}\n",
      "{'_id': ObjectId('5e395e4d72d41fbf18d4c99b'), 'title': '굿 윌 헌팅', 'score': 9.35, 'link': 'https://mvoie.naver.com/movie/bi/mi/basic.nhn?code=19079'}\n",
      "{'_id': ObjectId('5e395e4d72d41fbf18d4c99c'), 'title': '세 얼간이', 'score': 9.35, 'link': 'https://mvoie.naver.com/movie/bi/mi/basic.nhn?code=73372'}\n",
      "{'_id': ObjectId('5e395e4d72d41fbf18d4c99d'), 'title': '히든 피겨스', 'score': 9.35, 'link': 'https://mvoie.naver.com/movie/bi/mi/basic.nhn?code=147092'}\n",
      "{'_id': ObjectId('5e395e4d72d41fbf18d4c99e'), 'title': '달링', 'score': 9.34, 'link': 'https://mvoie.naver.com/movie/bi/mi/basic.nhn?code=152655'}\n",
      "{'_id': ObjectId('5e395e7d72d41fbf18d4c9ac'), 'title': '월-E', 'score': 9.4, 'link': 'https://movie.naver.com/movie/bi/mi/basic.nhn?code=69105'}\n",
      "{'_id': ObjectId('5e395e7d72d41fbf18d4c9ad'), 'title': '빽 투 더 퓨쳐', 'score': 9.4, 'link': 'https://movie.naver.com/movie/bi/mi/basic.nhn?code=10002'}\n",
      "{'_id': ObjectId('5e395e7d72d41fbf18d4c9ae'), 'title': '인생은 아름다워', 'score': 9.4, 'link': 'https://movie.naver.com/movie/bi/mi/basic.nhn?code=22126'}\n",
      "{'_id': ObjectId('5e395e7d72d41fbf18d4c9af'), 'title': '살인의 추억', 'score': 9.4, 'link': 'https://movie.naver.com/movie/bi/mi/basic.nhn?code=35901'}\n",
      "{'_id': ObjectId('5e395e7d72d41fbf18d4c9b0'), 'title': '매트릭스', 'score': 9.39, 'link': 'https://movie.naver.com/movie/bi/mi/basic.nhn?code=24452'}\n",
      "{'_id': ObjectId('5e395e7d72d41fbf18d4c9b1'), 'title': '라이언 일병 구하기', 'score': 9.39, 'link': 'https://movie.naver.com/movie/bi/mi/basic.nhn?code=18988'}\n",
      "{'_id': ObjectId('5e395e7d72d41fbf18d4c9b2'), 'title': '포레스트 검프', 'score': 9.39, 'link': 'https://movie.naver.com/movie/bi/mi/basic.nhn?code=17159'}\n",
      "{'_id': ObjectId('5e395e7d72d41fbf18d4c9b3'), 'title': '헬프', 'score': 9.39, 'link': 'https://movie.naver.com/movie/bi/mi/basic.nhn?code=82432'}\n",
      "{'_id': ObjectId('5e395e7d72d41fbf18d4c9b4'), 'title': '사운드 오브 뮤직', 'score': 9.39, 'link': 'https://movie.naver.com/movie/bi/mi/basic.nhn?code=10102'}\n",
      "{'_id': ObjectId('5e395e7d72d41fbf18d4c9b5'), 'title': '글래디에이터', 'score': 9.39, 'link': 'https://movie.naver.com/movie/bi/mi/basic.nhn?code=29217'}\n",
      "{'_id': ObjectId('5e395e7d72d41fbf18d4c9b6'), 'title': '안녕 베일리', 'score': 9.39, 'link': 'https://movie.naver.com/movie/bi/mi/basic.nhn?code=181700'}\n",
      "{'_id': ObjectId('5e395e7d72d41fbf18d4c9b7'), 'title': '위대한 쇼맨', 'score': 9.38, 'link': 'https://movie.naver.com/movie/bi/mi/basic.nhn?code=106360'}\n",
      "{'_id': ObjectId('5e395e7d72d41fbf18d4c9b8'), 'title': '센과 치히로의 행방불명', 'score': 9.38, 'link': 'https://movie.naver.com/movie/bi/mi/basic.nhn?code=32686'}\n",
      "{'_id': ObjectId('5e395e7d72d41fbf18d4c9b9'), 'title': '어벤져스: 엔드게임', 'score': 9.38, 'link': 'https://movie.naver.com/movie/bi/mi/basic.nhn?code=136900'}\n",
      "{'_id': ObjectId('5e395e7d72d41fbf18d4c9ba'), 'title': '알라딘', 'score': 9.38, 'link': 'https://movie.naver.com/movie/bi/mi/basic.nhn?code=163788'}\n",
      "{'_id': ObjectId('5e395e7d72d41fbf18d4c9bb'), 'title': '토이 스토리 3', 'score': 9.38, 'link': 'https://movie.naver.com/movie/bi/mi/basic.nhn?code=66463'}\n",
      "{'_id': ObjectId('5e395e7d72d41fbf18d4c9bc'), 'title': '헌터 킬러', 'score': 9.38, 'link': 'https://movie.naver.com/movie/bi/mi/basic.nhn?code=92125'}\n",
      "{'_id': ObjectId('5e395e7d72d41fbf18d4c9bd'), 'title': '클래식', 'score': 9.38, 'link': 'https://movie.naver.com/movie/bi/mi/basic.nhn?code=35939'}\n",
      "{'_id': ObjectId('5e395e7d72d41fbf18d4c9be'), 'title': '죽은 시인의 사회', 'score': 9.37, 'link': 'https://movie.naver.com/movie/bi/mi/basic.nhn?code=10048'}\n",
      "{'_id': ObjectId('5e395e7d72d41fbf18d4c9bf'), 'title': '레옹', 'score': 9.37, 'link': 'https://movie.naver.com/movie/bi/mi/basic.nhn?code=17170'}\n",
      "{'_id': ObjectId('5e395e7d72d41fbf18d4c9c0'), 'title': '아이 캔 스피크', 'score': 9.37, 'link': 'https://movie.naver.com/movie/bi/mi/basic.nhn?code=161850'}\n",
      "{'_id': ObjectId('5e395e7d72d41fbf18d4c9c1'), 'title': '두 교황', 'score': 9.37, 'link': 'https://movie.naver.com/movie/bi/mi/basic.nhn?code=189111'}\n",
      "{'_id': ObjectId('5e395e7d72d41fbf18d4c9c2'), 'title': '반지의 제왕: 왕의 귀환', 'score': 9.37, 'link': 'https://movie.naver.com/movie/bi/mi/basic.nhn?code=31796'}\n",
      "{'_id': ObjectId('5e395e7d72d41fbf18d4c9c3'), 'title': '동주', 'score': 9.37, 'link': 'https://movie.naver.com/movie/bi/mi/basic.nhn?code=134899'}\n",
      "{'_id': ObjectId('5e395e7d72d41fbf18d4c9c4'), 'title': '캐스트 어웨이', 'score': 9.36, 'link': 'https://movie.naver.com/movie/bi/mi/basic.nhn?code=31162'}\n",
      "{'_id': ObjectId('5e395e7d72d41fbf18d4c9c5'), 'title': '여인의 향기', 'score': 9.36, 'link': 'https://movie.naver.com/movie/bi/mi/basic.nhn?code=12482'}\n",
      "{'_id': ObjectId('5e395e7d72d41fbf18d4c9c6'), 'title': '타이타닉', 'score': 9.36, 'link': 'https://movie.naver.com/movie/bi/mi/basic.nhn?code=18847'}\n",
      "{'_id': ObjectId('5e395e7d72d41fbf18d4c9c7'), 'title': '굿바이 마이 프랜드', 'score': 9.35, 'link': 'https://movie.naver.com/movie/bi/mi/basic.nhn?code=17541'}\n",
      "{'_id': ObjectId('5e395e7d72d41fbf18d4c9c8'), 'title': '스파이 지니어스', 'score': 9.35, 'link': 'https://movie.naver.com/movie/bi/mi/basic.nhn?code=172780'}\n",
      "{'_id': ObjectId('5e395e7d72d41fbf18d4c9c9'), 'title': '집으로...', 'score': 9.35, 'link': 'https://movie.naver.com/movie/bi/mi/basic.nhn?code=34324'}\n",
      "{'_id': ObjectId('5e395e7d72d41fbf18d4c9ca'), 'title': '주토피아', 'score': 9.35, 'link': 'https://movie.naver.com/movie/bi/mi/basic.nhn?code=130850'}\n",
      "{'_id': ObjectId('5e395e7d72d41fbf18d4c9cb'), 'title': '서유기 2 - 선리기연', 'score': 9.35, 'link': 'https://movie.naver.com/movie/bi/mi/basic.nhn?code=18543'}\n",
      "{'_id': ObjectId('5e395e7d72d41fbf18d4c9cc'), 'title': '클레멘타인', 'score': 9.35, 'link': 'https://movie.naver.com/movie/bi/mi/basic.nhn?code=37886'}\n",
      "{'_id': ObjectId('5e395e7d72d41fbf18d4c9cd'), 'title': '굿 윌 헌팅', 'score': 9.35, 'link': 'https://movie.naver.com/movie/bi/mi/basic.nhn?code=19079'}\n",
      "{'_id': ObjectId('5e395e7d72d41fbf18d4c9ce'), 'title': '세 얼간이', 'score': 9.35, 'link': 'https://movie.naver.com/movie/bi/mi/basic.nhn?code=73372'}\n",
      "{'_id': ObjectId('5e395e7d72d41fbf18d4c9cf'), 'title': '히든 피겨스', 'score': 9.35, 'link': 'https://movie.naver.com/movie/bi/mi/basic.nhn?code=147092'}\n",
      "{'_id': ObjectId('5e395e7d72d41fbf18d4c9d0'), 'title': '달링', 'score': 9.34, 'link': 'https://movie.naver.com/movie/bi/mi/basic.nhn?code=152655'}\n"
     ]
    }
   ],
   "source": [
    "all_movies = list(client.sparta.movies.find({'score':\n",
    "                              {'$lte': 9.4}}))\n",
    "for movie in all_movies:\n",
    "    print(movie)"
   ]
  },
  {
   "cell_type": "code",
   "execution_count": null,
   "metadata": {},
   "outputs": [],
   "source": []
  }
 ],
 "metadata": {
  "kernelspec": {
   "display_name": "Python 3",
   "language": "python",
   "name": "python3"
  },
  "language_info": {
   "codemirror_mode": {
    "name": "ipython",
    "version": 3
   },
   "file_extension": ".py",
   "mimetype": "text/x-python",
   "name": "python",
   "nbconvert_exporter": "python",
   "pygments_lexer": "ipython3",
   "version": "3.6.10"
  }
 },
 "nbformat": 4,
 "nbformat_minor": 4
}
