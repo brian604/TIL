{
 "cells": [
  {
   "cell_type": "code",
   "execution_count": 7,
   "metadata": {},
   "outputs": [
    {
     "name": "stdout",
     "output_type": "stream",
     "text": [
      "[False  True False  True]\n",
      "[False False False  True]\n"
     ]
    }
   ],
   "source": [
    "# Create arrays\n",
    "import numpy as np\n",
    "import pandas as pd\n",
    "my_house = np.array([18.0, 20.0, 10.75, 9.50])\n",
    "your_house = np.array([14.0, 24.0, 14.25, 9.0])\n",
    "\n",
    "# operational operators : like < >= etc \n",
    "# boolean operators: and, or, not\n",
    "\n",
    "# my_house greater than 18.5 or smaller than 10\n",
    "print(np.logical_or(my_house > 18.5,\n",
    "                    my_house <10))\n",
    "\n",
    "# Both my_house and your_house smaller than 11\n",
    "print(np.logical_and(my_house < 11,\n",
    "your_house < 11))"
   ]
  },
  {
   "cell_type": "code",
   "execution_count": 7,
   "metadata": {},
   "outputs": [
    {
     "name": "stdout",
     "output_type": "stream",
     "text": [
      "jay garrick\n",
      "barry allen\n",
      "wally west\n",
      "bart allen\n",
      "jay garrick\n",
      "barry allen\n",
      "wally west\n",
      "bart allen\n"
     ]
    }
   ],
   "source": [
    "# Create a list of strings: flash\n",
    "flash = ['jay garrick', 'barry allen', 'wally west', 'bart allen']\n",
    "# Print each list item in flash using a for loop\n",
    "for person in flash: \n",
    "    print(person)\n",
    "\n",
    "\n",
    "# Create an iterator for flash: superspeed\n",
    "superspeed = iter(flash)\n",
    "\n",
    "# Print each item from the iterator\n",
    "print(next(superspeed))\n",
    "print(next(superspeed))\n",
    "print(next(superspeed))\n",
    "print(next(superspeed))"
   ]
  },
  {
   "cell_type": "code",
   "execution_count": 2,
   "metadata": {},
   "outputs": [
    {
     "name": "stdout",
     "output_type": "stream",
     "text": [
      "{'charles xavier': 'metal', 'bobby drake': 'fire', 'kurt wagner': 'water', 'max eisenhardt': 'sound', 'kitty pryde': 'boom'}\n",
      "dict_keys(['charles xavier', 'bobby drake', 'kurt wagner', 'max eisenhardt', 'kitty pryde'])\n",
      "[(0, 'charles xavier'), (1, 'bobby drake'), (2, 'kurt wagner'), (3, 'max eisenhardt'), (4, 'kitty pryde')]\n",
      "0 charles xavier\n",
      "1 bobby drake\n",
      "2 kurt wagner\n",
      "3 max eisenhardt\n",
      "4 kitty pryde\n",
      "1 charles xavier\n",
      "2 bobby drake\n",
      "3 kurt wagner\n",
      "4 max eisenhardt\n",
      "5 kitty pryde\n",
      "metal\n"
     ]
    }
   ],
   "source": [
    "# Create a list of strings: mutants\n",
    "mutants = ['charles xavier', \n",
    "            'bobby drake', \n",
    "            'kurt wagner', \n",
    "            'max eisenhardt', \n",
    "            'kitty pryde']\n",
    "powers = ['metal',\n",
    "         'fire',\n",
    "         'water',\n",
    "         'sound',\n",
    "         'boom']\n",
    "\n",
    "\n",
    "# Create a list of tuples: mutant_list\n",
    "mutant_list = list(enumerate(mutants))\n",
    "\n",
    "# Print the list of tuples\n",
    "print(mutant_list)\n",
    "\n",
    "# Unpack and print the tuple pairs\n",
    "for index1, value1 in enumerate(mutants):\n",
    "    print(index1, value1)\n",
    "\n",
    "# Change the start index\n",
    "for index2, value2 in enumerate(mutants, start=1):\n",
    "    print(index2, value2)\n",
    "\n",
    "# Dictionaries \n",
    "ind_xavier = mutants.index('charles xavier')\n",
    "print(powers[ind_xavier])\n"
   ]
  },
  {
   "cell_type": "code",
   "execution_count": 6,
   "metadata": {},
   "outputs": [
    {
     "name": "stdout",
     "output_type": "stream",
     "text": [
      "{'charles xavier': 'metal', 'bobby drake': 'fire', 'kurt wagner': 'water', 'max eisenhardt': 'sound', 'kitty pryde': 'boom'}\n",
      "dict_keys(['charles xavier', 'bobby drake', 'kurt wagner', 'max eisenhardt', 'kitty pryde'])\n",
      "metal\n",
      "{'bobby drake': 'fire', 'kurt wagner': 'water', 'max eisenhardt': 'sound', 'kitty pryde': 'boom', 'brian': 'knowledge'}\n"
     ]
    }
   ],
   "source": [
    "# Create dictionaries \n",
    "# To create dictionary {'ind' : 'name', ...}\n",
    "xmen = {'charles xavier': 'metal', 'bobby drake': 'fire',\n",
    "       'kurt wagner': 'water', 'max eisenhardt': 'sound',\n",
    "       'kitty pryde': 'boom'}\n",
    "print(xmen)\n",
    "print(xmen.keys())\n",
    "print(xmen['charles xavier'])\n",
    "\n",
    "# Manipulate dictionary \n",
    "xmen['brian'] = 'knowledge'\n",
    "# Update syntax is the same as above\n",
    "\n",
    "# Remove charles xavier \n",
    "del(xmen['charles xavier']) # Whole thing corresponding to such xavier gets erased\n",
    "print(xmen)\n",
    "\n",
    "# dictionary within dictionaries\n",
    "# Use this syntax: '{'' : {'', ''}, ...}'\n",
    "# How to access use xmen['']['']"
   ]
  },
  {
   "cell_type": "code",
   "execution_count": 16,
   "metadata": {},
   "outputs": [
    {
     "name": "stdout",
     "output_type": "stream",
     "text": [
      "metal\n"
     ]
    }
   ],
   "source": [
    "# Or you can create such by... \n",
    "hero = ['xavier', 'drake']\n",
    "abilities = ['metal', 'fire']\n",
    "my_hero = {'xmen': hero,\n",
    "          'abilities': abilities}\n",
    "print(my_hero['abilities'][0])"
   ]
  },
  {
   "cell_type": "markdown",
   "metadata": {},
   "source": [
    "## About dataframe \n",
    "Instruction in using such dataframe \n",
    "1. import pandas as pd \n",
    "2. Dictionary to dt \n",
    "- var = []"
   ]
  },
  {
   "cell_type": "code",
   "execution_count": 9,
   "metadata": {},
   "outputs": [
    {
     "name": "stdout",
     "output_type": "stream",
     "text": [
      "     xmen abilities\n",
      "0  xavier     metal\n",
      "1   drake      fire\n"
     ]
    }
   ],
   "source": [
    "moviexmen = pd.DataFrame(my_hero)\n",
    "print(moviexmen)"
   ]
  },
  {
   "cell_type": "code",
   "execution_count": 0,
   "metadata": {},
   "outputs": [],
   "source": [
    "# Create a zip object from mutants and powers: z1\n",
    "z1 = zip(mutants, powers)\n",
    "\n",
    "# Print the tuples in z1 by unpacking with *\n",
    "print(*z1)\n",
    "\n",
    "# Re-create a zip object from mutants and powers: z1\n",
    "z1 = zip(mutants, powers)\n",
    "\n",
    "# 'Unzip' the tuples in z1 by unpacking with * and zip(): result1, result2\n",
    "result1, result2 = zip(*z1)\n",
    "\n",
    "# Check if unpacked tuples are equivalent to original tuples\n",
    "print(result1 == mutants)\n",
    "print(result2 == powers)\n"
   ]
  }
 ],
 "metadata": {
  "kernelspec": {
   "display_name": "Python 3",
   "language": "python",
   "name": "python3"
  },
  "language_info": {
   "codemirror_mode": {
    "name": "ipython",
    "version": 3
   },
   "file_extension": ".py",
   "mimetype": "text/x-python",
   "name": "python",
   "nbconvert_exporter": "python",
   "pygments_lexer": "ipython3",
   "version": "3.6.8"
  }
 },
 "nbformat": 4,
 "nbformat_minor": 1
}
