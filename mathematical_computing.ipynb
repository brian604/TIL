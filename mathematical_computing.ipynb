{
 "cells": [
  {
   "cell_type": "code",
   "execution_count": 1,
   "metadata": {},
   "outputs": [],
   "source": [
    "from sympy import *\n",
    "x = symbols('x')\n",
    "init_printing(use_unicode = True)"
   ]
  },
  {
   "cell_type": "code",
   "execution_count": 2,
   "metadata": {},
   "outputs": [],
   "source": [
    "a = expand(x**8 + (1-x)**2)\n",
    "b = expand(x**9 + (1-x))\n",
    "polyn = 45*a+10*b+1*(x**10)\n",
    "win = 10*polyn\n",
    "lose = 8*(1-polyn)"
   ]
  },
  {
   "cell_type": "code",
   "execution_count": 3,
   "metadata": {},
   "outputs": [
    {
     "data": {
      "image/png": "[encoded data removed]",
      "text/latex": [
       "$$18 x^{10} + 180 x^{9} + 810 x^{8} + 810 x^{2} - 1800 x + 982$$"
      ],
      "text/plain": [
       "    10        9        8        2               \n",
       "18⋅x   + 180⋅x  + 810⋅x  + 810⋅x  - 1800⋅x + 982"
      ]
     },
     "execution_count": 3,
     "metadata": {},
     "output_type": "execute_result"
    }
   ],
   "source": [
    "tot = win - lose\n",
    "tot"
   ]
  }
 ],
 "metadata": {
  "kernelspec": {
   "display_name": "Python 3",
   "language": "python",
   "name": "python3"
  },
  "language_info": {
   "codemirror_mode": {
    "name": "ipython",
    "version": 3
   },
   "file_extension": ".py",
   "mimetype": "text/x-python",
   "name": "python",
   "nbconvert_exporter": "python",
   "pygments_lexer": "ipython3",
   "version": "3.6.8"
  }
 },
 "nbformat": 4,
 "nbformat_minor": 2
}
