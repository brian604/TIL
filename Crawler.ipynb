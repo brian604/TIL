{
 "cells": [
  {
   "cell_type": "code",
   "execution_count": 84,
   "metadata": {},
   "outputs": [],
   "source": [
    "from selenium import webdriver \n",
    "from bs4 import BeautifulSoup\n",
    "from collections import OrderedDict\n",
    "driver = webdriver.Chrome('/Users/Brian/Downloads/chromedriver')\n",
    "driver.implicitly_wait(3)\n",
    "#driver.get('https://www.daum.net')"
   ]
  },
  {
   "cell_type": "code",
   "execution_count": 5,
   "metadata": {},
   "outputs": [
    {
     "data": {
      "text/plain": [
       "\"\\nfind_element_by_name('HTML_name')\\nfind_element_by_id('HTML_id')\\nfind_element_by_xpath('/html/body/some/xpath')\\nfind_element_by_css_selector('#css > div.selector')\\nfind_element_by_class_name('some_class_name')\\nfind_element_by_tag_name('h1')\\n\""
      ]
     },
     "execution_count": 5,
     "metadata": {},
     "output_type": "execute_result"
    }
   ],
   "source": [
    "'''\n",
    "find_element_by_name('HTML_name')\n",
    "find_element_by_id('HTML_id')\n",
    "find_element_by_xpath('/html/body/some/xpath')\n",
    "find_element_by_css_selector('#css > div.selector')\n",
    "find_element_by_class_name('some_class_name')\n",
    "find_element_by_tag_name('h1')\n",
    "'''"
   ]
  },
  {
   "cell_type": "code",
   "execution_count": 73,
   "metadata": {},
   "outputs": [],
   "source": [
    "daum = driver.page_source\n",
    "soup = BeautifulSoup(daum, 'html.parser')\n",
    "daum_ranking = soup.select('div.realtime_part span')\n",
    "#for rank in daum_ranking:"
   ]
  },
  {
   "cell_type": "code",
   "execution_count": 74,
   "metadata": {},
   "outputs": [],
   "source": [
    "title_ranks = []\n",
    "for rank in daum_ranking:\n",
    "    title = rank.select_one('a')\n",
    "    if title is not None:\n",
    "        title = title.text \n",
    "        title_ranks.append(title)"
   ]
  },
  {
   "cell_type": "code",
   "execution_count": 82,
   "metadata": {},
   "outputs": [
    {
     "ename": "TypeError",
     "evalue": "set() does not take keyword arguments",
     "output_type": "error",
     "traceback": [
      "\u001b[0;31m---------------------------------------------------------------------------\u001b[0m",
      "\u001b[0;31mTypeError\u001b[0m                                 Traceback (most recent call last)",
      "\u001b[0;32m<ipython-input-82-69c0f1f08e6d>\u001b[0m in \u001b[0;36m<module>\u001b[0;34m\u001b[0m\n\u001b[0;32m----> 1\u001b[0;31m sorted_title = sorted(set(title_ranks, key = lambda x: \n\u001b[0m\u001b[1;32m      2\u001b[0m                    title_ranks.index(x)))\n",
      "\u001b[0;31mTypeError\u001b[0m: set() does not take keyword arguments"
     ]
    }
   ],
   "source": [
    "#def keepingexcept (listofelement):\n",
    "#    '''\n",
    "#    Keeping all unique elements w/ retaining the indexes \n",
    "#    '''\n",
    "#    unique = "
   ]
  },
  {
   "cell_type": "markdown",
   "metadata": {},
   "source": [
    "## 네이버 로그인"
   ]
  },
  {
   "cell_type": "code",
   "execution_count": 9,
   "metadata": {},
   "outputs": [],
   "source": [
    "from selenium import webdriver\n",
    "from selenium.webdriver.common.action_chains import ActionChains\n",
    "from selenium.webdriver.common.keys import Keys\n",
    "import pyperclip\n",
    "import time\n",
    "\n",
    "\n",
    "#클립보드에 input을 복사한 뒤\n",
    "#해당 내용을 actionChain을 이용해 로그인 폼에 붙여넣기\n",
    "def copy_input(xpath, input1):\n",
    "    pyperclip.copy(input1)\n",
    "    driver.find_element_by_xpath(xpath).click()\n",
    "    ActionChains(driver).key_down(Keys.CONTROL).send_keys('v').key_up(Keys.CONTROL).perform()\n",
    "    time.sleep(1)\n",
    "\n",
    "    \n",
    "id1 = 'brian604'\n",
    "pw = '2138132Ace'\n",
    "\n",
    "driver = webdriver.Chrome('/Users/Brian/Downloads/chromedriver')\n",
    "driver.implicitly_wait(3)\n",
    "\n",
    "driver.get('https://nid.naver.com/nidlogin.login?mode=form&url=https%3A%2F%2Fwww.naver.com')\n",
    "\n",
    "copy_input('//*[@id=\"id\"]', id1)\n",
    "time.sleep(3)\n",
    "copy_input('//*[@id=\"pw\"]', pw)\n",
    "time.sleep(3)\n",
    "driver.find_element_by_xpath('//*[@id=\"frmNIDLogin\"]/fieldset/input').click()"
   ]
  },
  {
   "cell_type": "code",
   "execution_count": 7,
   "metadata": {},
   "outputs": [
    {
     "name": "stdout",
     "output_type": "stream",
     "text": [
      "{'status': 'ok', 'totalResults': 181, 'articles': [{'source': {'id': None, 'name': 'Hotair.com'}, 'author': None, 'title': 'New report on 138 coronavirus cases reveals disturbing details - Hot Air', 'description': 'New report on 138 coronavirus cases reveals disturbing details Hot Air View full coverage on Google News', 'url': 'https://hotair.com/headlines/archives/2020/02/new-report-138-coronavirus-cases-reveals-disturbing-details/', 'urlToImage': 'https://hotair.com/wp/wp-content/themes/hotair-desktop/images/social/hotair-default.png', 'publishedAt': '2020-02-09T03:20:00Z', 'content': 'The patients ranged in age from 22 to 92, with a median of 56 years, and were admitted to Zhongnan Hospital of Wuhan University from Jan. 1 to Jan 28. Many of them 41 percent were presumed to have caught the virus in the hospital, including 17 people who had … [+680 chars]'}, {'source': {'id': None, 'name': 'Buzzfeednews.com'}, 'author': 'Dan Vergano', 'title': 'The Next Few Weeks Are Critical For Figuring Out How Far The Coronavirus Outbreak Will End', 'description': 'Experts are making wildly different predictions about the future of the coronavirus. \"We are at the blind-men-feeling-the-elephant stage of this outbreak.” View Entire Post ›', 'url': 'https://www.buzzfeednews.com/article/danvergano/coronavirus-spread-flu-pandemic', 'urlToImage': 'https://img.buzzfeed.com/buzzfeed-static/static/2020-02/8/21/asset/3cac1105cc0c/sub-buzz-451-1581198296-7.jpg?crop=3000:1570;0,215', 'publishedAt': '2020-02-09T15:06:38Z', 'content': 'Chinas new coronavirus may peter out. Or it might join the flu on the roster of the worlds winter illnesses a bug that will be routinely vaccinated against. Or it might become a global pandemic, killing millions of people.\\r\\nExperts dont have enough informatio… [+12254 chars]'}, {'source': {'id': None, 'name': '36kr.com'}, 'author': '八点健闻', 'title': '瑞德西韦，距离真的成为新冠特效药还有多远？', 'description': '编者按：本文来自微信公众号 “八点健闻”（ID：HealthInsight） ，作者 张小乙，36氪经授权转载。 导读： 美国一个新冠肺炎患者使用瑞德西韦治愈的消息发布后，流传出很多该药有“奇效”的消息，但都仅仅是“美好的愿望”。 新冠肺炎确诊、疑似、死亡人数都在不断上升，人们太需要看到希望了。 瑞德西韦的前一代药物，对治疗猫冠状病毒引起的猫传腹有效。于是，甚至有人希望代购这一款猫药来给新冠肺炎患者治病。 孤例不能说明问题。两项瑞德西韦针对新冠肺炎患者的临床试验正在进行中，是不是有效，要试验结束时才知道。 在特效…', 'url': 'https://36kr.com/p/5290920?ktm_source=feed', 'urlToImage': 'https://img.36krcdn.com/20191024/v2_1571894049839_img_jpg', 'publishedAt': '2020-02-10T01:46:00Z', 'content': 'IDHealthInsight\\xa036\\r\\n28\\r\\n17ICU96% 700\\r\\n131NEJM\\r\\nRemdesivir\\r\\n25\\r\\n29Remdesivir3/IIIRCT427IIIRCT51\\r\\n2018102520231130\\r\\n308452\\r\\n112167%\\r\\n/28\\r\\n36.6°C37.2 °C37.8°C\\r\\n24/\\r\\n&gt;94%\\r\\n///\\r\\n286\\r\\n6\\r\\n5ECMOIMV\\r\\n4/NIV / HFNC\\r\\n3NIV / HFNC\\r\\n2\\r\\n1\\r\\n28/2\\r\\nGS-441524\\r\\nGS-441524Feline… [+233 chars]'}, {'source': {'id': None, 'name': '36kr.com'}, 'author': '八点健闻', 'title': '瑞德西韦，距离真的成为新冠特效药还有多远？', 'description': '编者按：本文来自微信公众号 “八点健闻”（ID：HealthInsight） ，作者 张小乙，36氪经授权转载。 导读： 美国一个新冠肺炎患者使用瑞德西韦治愈的消息发布后，流传出很多该药有“奇效”的消息，但都仅仅是“美好的愿望”。 新冠肺炎确诊、疑似、死亡人数都在不断上升，人们太需要看到希望了。 瑞德西韦的前一代药物，对治疗猫冠状病毒引起的猫传腹有效。于是，甚至有人希望代购这一款猫药来给新冠肺炎患者治病。 孤例不能说明问题。两项瑞德西韦针对新冠肺炎患者的临床试验正在进行中，是不是有效，要试验结束时才知道。 在特效…', 'url': 'https://www.36kr.com/p/5290920?ktm_source=feed', 'urlToImage': 'https://img.36krcdn.com/20191024/v2_1571894049839_img_jpg', 'publishedAt': '2020-02-10T01:46:00Z', 'content': 'IDHealthInsight\\xa036\\r\\n28\\r\\n17ICU96% 700\\r\\n131NEJM\\r\\nRemdesivir\\r\\n25\\r\\n29Remdesivir3/IIIRCT427IIIRCT51\\r\\n2018102520231130\\r\\n308452\\r\\n112167%\\r\\n/28\\r\\n36.6°C37.2 °C37.8°C\\r\\n24/\\r\\n&gt;94%\\r\\n///\\r\\n286\\r\\n6\\r\\n5ECMOIMV\\r\\n4/NIV / HFNC\\r\\n3NIV / HFNC\\r\\n2\\r\\n1\\r\\n28/2\\r\\nGS-441524\\r\\nGS-441524Feline… [+233 chars]'}, {'source': {'id': None, 'name': 'Tagesschau.de'}, 'author': 'tagesschau.de', 'title': 'Coronavirus: Luftwaffe bringt China-Rückkehrer heim', 'description': 'Es war eine britisch-deutsche Gemeinschaftsaktion: 20 deutsche China-Rückkehrer sind am Mittag nach einem Zwischenstopp in Oxford in Berlin gelandet. Nach Hause können sie aber zunächst nicht.', 'url': 'https://www.tagesschau.de/inland/china-coronavirus-139.html', 'urlToImage': 'https://www.tagesschau.de/luftwaffe-coronavirus-101~_v-videowebm.jpg', 'publishedAt': '2020-02-09T13:01:38Z', 'content': 'Es war eine britisch-deutsche Gemeinschaftsaktion: 20 deutsche China-Rückkehrer sind am Mittag nach einem Zwischenstopp in Oxford in Berlin gelandet. Nach Hause können sie aber zunächst nicht.\\r\\n Ein Flugzeug der Bundeswehr ist mit Rückkehrern aus der schwer v… [+2960 chars]'}, {'source': {'id': None, 'name': 'Cnbeta.com'}, 'author': 'teikaei', 'title': '携带潜在具有传染性冠状病毒的蝙蝠洞穴', 'description': '15 年前， 科学家在中国南方发现了一个蝙蝠洞穴 ，蝙蝠身上携带了类似新冠、SARS 和 MERS 的冠状病毒。 专注于监视野生动物传染病的非盈利组织 EcoHealth Alliance 的主席 Peter Daszak 称，洞穴内的野生蝙蝠是类 SARS 冠状病毒的丰富基因库。 阅读全文', 'url': 'https://www.cnbeta.com/articles/science/941601.htm', 'urlToImage': 'https://static.cnbetacdn.com/thumb/article/2020/0210/0a3e00d6191686c.jpg', 'publishedAt': '2020-02-10T06:01:02Z', 'content': '15 SARS MERS EcoHealth Alliance Peter Daszak SARS'}, {'source': {'id': None, 'name': 'Solidot.org'}, 'author': None, 'title': '携带潜在具有传染性冠状病毒的蝙蝠洞穴', 'description': '15 年前， 科学家在中国南方发现了一个蝙蝠洞穴 ，蝙蝠身上携带了类似新冠、SARS 和 MERS 的冠状病毒。专注于监视野生动物传染病的非盈利组织 EcoHealth Alliance 的主席 Peter Daszak 称，洞穴内的野生蝙蝠是类 SARS 冠状病毒的丰富基因库。2004 年发现的 500 种病毒株中的一种与新冠有 96% 的相似性。Daszak 指出，他所想要表达的意思是这些病毒株具有很高的传染人类的风险。蝙蝠携带的人畜共患病毒数量比其它哺乳动物多得多，其中许多已经引发了人类疾病和疫情。2019…', 'url': 'https://www.solidot.org/story?sid=63472', 'urlToImage': None, 'publishedAt': '2020-02-10T05:29:25Z', 'content': None}, {'source': {'id': 'el-mundo', 'name': 'El Mundo'}, 'author': 'LAURA TARDÓN', 'title': 'No se descarta la infección en la familia del segundo caso de coronavirus detectado en España', 'description': 'Tanto la mujer como las dos hijas (de 10 y 7 años) del segundo caso de coronavirus detectado en España han dado negativo en la prueba de diagnóstico. Sin embargo, no se descarta qu', 'url': 'https://www.elmundo.es/ciencia-y-salud/salud/2020/02/09/5e4028b6fdddff458b8b45d1.html', 'urlToImage': 'https://e00-elmundo.uecdn.es/assets/multimedia/imagenes/2020/02/09/15812629769335.jpg', 'publishedAt': '2020-02-09T15:45:40Z', 'content': 'Tanto la mujer como las dos hijas (de 10 y 7 años) del segundo caso de coronavirus detectado en España han dado negativo en la prueba de diagnóstico. Sin embargo, no se descarta que pudieran haberse infectado y por eso se mantendrá un \"seguimiento\". Aunque aú… [+3792 chars]'}, {'source': {'id': None, 'name': 'Clubic.com'}, 'author': '/auteur/2146-astien.html', 'title': 'Sur un plateau | UNLOCK : Attention, ceci est un escape game !', 'description': 'Vous êtes jeu de stratégie, jeu de rôle ou plutôt deckbuilding ? Passionnés ou débutant ? Notre chronique vous livre chaque semaine, Sur un plateau, nos recommandations en termes de jeu de société !', 'url': 'https://www.clubic.com/sur-un-plateau/actualite-884933-plateau-unlock-attention-escape-game.html', 'urlToImage': 'https://pic.clubic.com/v1/images/1774865/raw', 'publishedAt': '2020-02-09T15:00:00Z', 'content': \"Vous êtes jeu de stratégie, jeu de rôle ou plutôt deckbuilding ? Passionnés ou débutant ? Notre chronique vous livre chaque semaine, Sur un plateau, nos recommandations en termes de jeu de société ! \\r\\nUne énigme à résoudre, une équipe, un minuteur : c'est bie… [+4859 chars]\"}, {'source': {'id': None, 'name': 'Indianexpress.com'}, 'author': 'Bloomberg', 'title': 'Explained: What you need to know about the spreading coronavirus', 'description': 'The 2019-nCoV belongs to a family of viruses responsible for diseases that range in severity from the common cold to severe acute respiratory syndrome, or SARS, which killed almost 800 people in a 2002-2003 outbreak.', 'url': 'https://indianexpress.com/article/explained/explained-what-you-need-to-know-about-the-spreading-coronavirus-6259137/', 'urlToImage': 'https://images.indianexpress.com/2020/02/coronavirus-shanghai1.jpg?w=759', 'publishedAt': '2020-02-09T12:26:45Z', 'content': 'By: Bloomberg | \\r\\nUpdated: February 9, 2020 5:57:50 pm\\r\\nPassengers wearing masks walk outside the Shanghai railway station in Shanghai, China, as the country is hit by an outbreak of the new coronavirus. (Photo: REUTERS)A newly identified virus that emerged l… [+7352 chars]'}, {'source': {'id': None, 'name': 'Pib.gov.in'}, 'author': None, 'title': 'Suo-Moto statement by Dr. Harsh Vardhan, Minister for Health & Family Welfare on 10th February, 2020 in Lok Sabha Regarding Outbreak of Novel Corona Virus Disease in China and Some other Countries and the Steps Taken by the Government of India', 'description': 'I would like to brief the Hon’ble members on the outbreak of novel Corona Virus Disease in China & some other countries and the actions taken by the Government of India. Coronaviruses are large group of viruses that cause illness in humans and animals.', 'url': 'https://pib.gov.in/newsite/PrintRelease.aspx?relid=199175', 'urlToImage': None, 'publishedAt': '2020-02-10T07:22:00Z', 'content': '<ol><li>I would like to brief the Hon’ble members on the outbreak of novel Corona Virus Disease in China &amp; some other countries and the actions taken by the Government of India.\\xa0 </li><li>Coronaviruses are large group of viruses that cause illness in huma… [+9827 chars]'}, {'source': {'id': None, 'name': '20minutos.es'}, 'author': 'redaccion@20minutos.es (EUROPA PRESS)', 'title': 'Calculan cuánto tiempo aguantan los coronavirus en la superficie de los objetos', 'description': \"Investigadores alemanes han realizado una recopilación de estudios sobre cuánto tiempo persisten en las superficies de objetos, y cómo eliminarlos, los coronavirus SARS y MERS. En su trabajo, publicado en la revista 'Journal of Hospital Infection', ofrecen un…\", 'url': 'https://www.20minutos.es/noticia/4145942/0/calculan-tiempo-coronavirus-superficie-objetos/', 'urlToImage': 'https://imagenes.20minutos.es/files/og_thumbnail/uploads/imagenes/2020/02/09/pruebas-en-laboratorios-chinos.jpeg', 'publishedAt': '2020-02-09T08:26:39Z', 'content': 'Investigadores alemanes han realizado una recopilación de estudios sobre cuánto tiempo persisten en las superficies de objetos, y cómo eliminarlos, los coronavirus SARS y MERS. En su trabajo, publicado en la revista Journal of Hospital Infection, ofrecen una … [+2153 chars]'}, {'source': {'id': None, 'name': 'Ria.ru'}, 'author': '', 'title': 'Число погибших от нового коронавируса превысило число жертв MERS - РИА НОВОСТИ', 'description': 'Число погибших от нового коронавируса превысило число жертв MERS РИА НОВОСТИ Число погибших от коронавируса превысило число жертв атипичной пневмонии РБК \"Охотники за привидениями\" объявили войну вирусу Вести.Ru Число новых случаев заражения коронавирусом в К…', 'url': 'https://ria.ru/20200210/1564469683.html', 'urlToImage': 'https://cdn23.img.ria.ru/images/sharing/article/1564469683.jpg?15643968471581299543', 'publishedAt': '2020-02-10T01:52:30Z', 'content': 'https://ria.ru/20200210/1564469683.html\\r\\nhttps://cdn25.img.ria.ru/images/07e4/02/07/1564396851_0:191:2961:1857_1036x0_80_0_0_8b156a42d034d164eed9e55469ba41d9.jpg.webp\\r\\nhttps://cdn22.img.ria.ru/i/export/ria/logo.png\\r\\nhttps://cdn22.img.ria.ru/i/export/ria/logo.… [+164 chars]'}, {'source': {'id': None, 'name': 'Cnnphilippines.com'}, 'author': None, 'title': 'New study an eye-opener on how coronavirus is spreading and how little we know - CNN Philippines', 'description': 'New study an eye-opener on how coronavirus is spreading and how little we know CNN Philippines Charlotte officials monitoring 4 people for coronavirus symptoms WXII 12 News Health experts provide strategies for heart disease detection, prevention WTHI-TV Trum…', 'url': 'http://www.cnnphilippines.com/news/2020/2/9/jama-study-novel-coronavirus.html', 'urlToImage': 'http://cnnphilippines.com/.imaging/mte/demo-cnn-new/750x450/dam/cnn/2020/2/4/Coronavirus-in-Beijing_CNN.jpg/jcr:content/Coronavirus%20in%20Beijing_CNN.jpg', 'publishedAt': '2020-02-09T08:34:00Z', 'content': \"Editor's note: Dr. Tom Frieden\\xa0is the former director of the US Centers for Disease Control and Prevention, and former commissioner of the New York City Health Department. He is currently president and CEO of Resolve to Save Lives, a global non-profit initiat… [+6031 chars]\"}, {'source': {'id': 'cnn', 'name': 'CNN'}, 'author': 'By <a href=\"/profiles/ben-westcott\">Ben Westcott</a> and Adam Renton, CNN', 'title': 'Coronavirus outbreak: 89 more deaths reported in China', 'description': '• Ex-CDC-chief: Study is an eyeopener on howvirus is spreading and how little we know', 'url': 'https://www.cnn.com/asia/live-news/coronavirus-outbreak-02-09-20-intl-hnk/index.html', 'urlToImage': 'https://cdn.cnn.com/cnnnext/dam/assets/200209083217-sars-2003-super-tease.jpg', 'publishedAt': '2020-02-09T01:03:15Z', 'content': 'The global death toll from the Wuhan coronavirus\\xa0is at least 805, surpassing the number of fatalities from the deadly 2003 severe acute respiratory syndrome (SARS) outbreak.\\r\\nWhen SARS swept across the world, it sparked an international panic and infected mor… [+495 chars]'}, {'source': {'id': None, 'name': 'Sciencebasedmedicine.org'}, 'author': 'David Gorski', 'title': 'No, James Lyons-Weiler did not “break the coronavirus code”', 'description': \"Last week, a new conspiracy theory about the coronavirus outbreak by James Lyons-Weiler went viral (if you'll excuse the term) after antivax conspiracy theorist Del Bigtree interviewed him. Lyons-Weiler strongly implies that the strain of coronavirus behind t…\", 'url': 'https://sciencebasedmedicine.org/james-lyons-weiler-coronavirus-conspiracy-vaccine/', 'urlToImage': 'https://sciencebasedmedicine.org/wp-content/uploads/2020/02/JLWDB.jpg', 'publishedAt': '2020-02-10T08:20:35Z', 'content': 'There are two things that I’ve learned about antivaccine activists, an aspect of their movement that has remained and continues to remain very consistent. The first is that to them it is always, always, always about the vaccines. To them, no matter what the d… [+28920 chars]'}, {'source': {'id': None, 'name': 'Hwupgrade.it'}, 'author': None, 'title': \"Il coronavirus e la necessità dell'accesso pubblico agli studi scientifici\", 'description': 'La recente epidemia di coronavirus riapre il dibattito sulla necessità di accedere liberamente e gratuitamente agli studi scientifici da parte di scienziati e medici, ma anche del pubblico più in generale. C\\'è chi pubblica studi \"piratandoli\"', 'url': 'https://www.hwupgrade.it/news/scienza-tecnologia/il-coronavirus-e-la-necessita-dell-accesso-pubblico-agli-studi-scientifici_86955.html', 'urlToImage': 'https://www.hwupgrade.it/i/n/Corona_virus_720.jpg', 'publishedAt': '2020-02-09T11:01:01Z', 'content': \"È giusto che delle ricerche che possono potenzialmente salvare delle vite siano accessibili solo dietro pagamento? Questo è l'interrogativo morale che si sono posti alcuni archivisti digitali allo scoppio dell'epidemia del coronavirus in Cina. La risposta è s… [+4602 chars]\"}, {'source': {'id': None, 'name': 'Designtaxi.com'}, 'author': None, 'title': 'Useful Comic On Keeping Safe From Coronavirus Gets Worldwide Attention', 'description': 'Image by Weiman Kow and featured with permission The coronavirus outbreak has sparked a flurry of panic across the world. Much of the danger, however, lies in ungrounded fears and a lack of understanding about the novel coronavirus. Weiman Kow, a UX designer …', 'url': 'https://designtaxi.com/news/408549/Useful-Comic-On-Keeping-Safe-From-Coronavirus-Gets-Worldwide-Attention/?utm_source=feedburner&utm_medium=feed&utm_campaign=Feed%3A+designtaxi_news+%28TAXI+Daily+News%29', 'urlToImage': 'https://editorial.designtaxi.com/editorial-images/news-Coronavirus100220/Infocomic-Coronavirus-Weiman-Kow-1.jpg', 'publishedAt': '2020-02-10T09:22:09Z', 'content': 'Image by Weiman Kow and featured with permissionThe coronavirus outbreak has sparked a flurry of panic across the world. Much of the danger, however, lies in ungrounded fears and a lack of understanding about the novel coronavirus.\\r\\nWeiman Kow, a UX designer … [+4550 chars]'}, {'source': {'id': None, 'name': 'Forbes.com'}, 'author': 'Victoria Forster, Contributor, Victoria Forster, Contributor https://www.forbes.com/sites/victoriaforster/', 'title': 'Scientists Predict Coronavirus May Live For Up To Nine Days On Surfaces', 'description': 'Coronavirus may live on surfaces for up to nine days, but the good news is that it is likely to be deactivated using appropriate disinfectants.', 'url': 'https://www.forbes.com/sites/victoriaforster/2020/02/09/scientists-predict-coronavirus-may-live-for-up-to-nine-days-on-surfaces/', 'urlToImage': 'https://thumbor.forbes.com/thumbor/600x315/https%3A%2F%2Fspecials-images.forbesimg.com%2Fimageserve%2F44262648%2F960x0.jpg', 'publishedAt': '2020-02-09T18:43:36Z', 'content': 'Subway workers clean and disinfect glass door panels on a platform at a subway station in Shanghai, ... [+] China, on Thursday, Feb. 6, 2020. Photographer: Qilai Shen/Bloomberg\\r\\n© 2020 Bloomberg Finance LP\\r\\nA new analysis looking at data from different types … [+5903 chars]'}, {'source': {'id': None, 'name': 'Wired.it'}, 'author': 'Viola Rita', 'title': 'Coronavirus, quanto resiste su superfici come tavoli e maniglie', 'description': 'Dagli studi su altri coronavirus, come quelli della Sars e la Mers, emerge che questi patogeni possono persistere sulle superfici fino a 9 giorni. Ecco quali sono le superfici più intaccate e come disattivare i patogeni The post Coronavirus, quanto resiste su…', 'url': 'https://www.wired.it/scienza/medicina/2020/02/10/coronavirus-superfici-tavoli-maniglie/', 'urlToImage': 'https://images.wired.it/wp-content/uploads/2020/02/07173938/GettyImages-1092103510.jpg', 'publishedAt': '2020-02-10T06:09:33Z', 'content': '(foto: Wilpunt via Getty Images)\\r\\nLa notizia dell’italiano rientrato da Wuhan\\xa0positivo al coronavirus\\xa0ha ovviamente riacceso l’attenzione già molto alta sulla nuova epidemia in Cina e fuori dalla Cina. Al 7 febbraio i casi sono 31.500, circa 3 mila in più ris… [+4489 chars]'}]}\n"
     ]
    }
   ],
   "source": [
    "## use newsAPI \n",
    "mers = [\"mers\", \"메르스\"] \n",
    "date = []\n",
    "import requests\n",
    "\n",
    "url = ('https://newsapi.org/v2/everything?'\n",
    "       'q=mers&'\n",
    "       'from=2020-02-09&'\n",
    "       'sortBy=popularity&'\n",
    "       'apiKey=9a53be4859f54da1a82dcd9085d80542')\n",
    "\n",
    "response = requests.get(url)\n",
    "\n",
    "print(response.json())\n",
    "\n",
    "\n",
    "## Result: Cannot scrawl more than "
   ]
  },
  {
   "cell_type": "code",
   "execution_count": null,
   "metadata": {},
   "outputs": [],
   "source": []
  }
 ],
 "metadata": {
  "kernelspec": {
   "display_name": "Python 3",
   "language": "python",
   "name": "python3"
  },
  "language_info": {
   "codemirror_mode": {
    "name": "ipython",
    "version": 3
   },
   "file_extension": ".py",
   "mimetype": "text/x-python",
   "name": "python",
   "nbconvert_exporter": "python",
   "pygments_lexer": "ipython3",
   "version": "3.6.10"
  }
 },
 "nbformat": 4,
 "nbformat_minor": 4
}
