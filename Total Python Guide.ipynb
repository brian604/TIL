{
 "cells": [
  {
   "cell_type": "markdown",
   "metadata": {},
   "source": [
    "### Ipython (jupyter magic command)\n",
    "1. %%file ---.py means....<br> Will save the following script to a file called '---.py' in this folder\n",
    "\n",
    "How to use the file: \n",
    "```python\n",
    "import ---\n",
    "from --- import functionname\n",
    "```\n",
    "\n"
   ]
  },
  {
   "cell_type": "markdown",
   "metadata": {},
   "source": [
    "<h1>Table of Contents<span class=\"tocSkip\"></span></h1>\n",
    "<div class=\"toc\"><ul class=\"toc-item\"><li><span><a href=\"#To-perform-loop-operations\" data-toc-modified-id=\"To-perform-loop-operations\"><span class=\"toc-item-num\">1.&nbsp;&nbsp;</span>To perform loop operations</a></span></li><li><span><a href=\"#Make-display-look-pretty-using-print-command\" data-toc-modified-id=\"Make-display-look-pretty-using-print-command\"><span class=\"toc-item-num\">2.&nbsp;&nbsp;</span>Make display look pretty using print command</a></span></li></ul></div>"
   ]
  },
  {
   "cell_type": "markdown",
   "metadata": {},
   "source": [
    "# To perform loop operations \n",
    "Syntax: \n",
    "1. for loop ([For loop guide](https://www.tutorialspoint.com/python/python_for_loop.htm))\n",
    "<br> \n",
    "for \\underline\\ in (array or dict) : \n",
    "    function(\\underline\\)\n",
    "\n",
    "2. while loop\n"
   ]
  },
  {
   "cell_type": "code",
   "execution_count": 2,
   "metadata": {},
   "outputs": [],
   "source": [
    "# Modules needed \n",
    "import numpy as np\n",
    "import pandas as pd"
   ]
  },
  {
   "cell_type": "markdown",
   "metadata": {},
   "source": [
    "### Make display look pretty using print command\n"
   ]
  },
  {
   "cell_type": "markdown",
   "metadata": {},
   "source": [
    "- __'print (f'\\n reading {variable})', where '\\n' means 1-line enter.__\n",
    "<br> <br>\n",
    "An exaple is as followed:\n",
    "\n"
   ]
  },
  {
   "cell_type": "code",
   "execution_count": 16,
   "metadata": {},
   "outputs": [
    {
     "name": "stdout",
     "output_type": "stream",
     "text": [
      "reading DisplayName\n",
      "where I intend to make var look like DisplayNameDisplayName\n",
      "array([18.  , 20.  , 10.75,  9.5 ])\n"
     ]
    }
   ],
   "source": [
    "import pprint\n",
    "import numpy as np\n",
    "var = 'DisplayName'\n",
    "print(f'reading {var}\\nwhere I intend to make var look like {var*2}')\n",
    "my_house = np.array([18.0, 20.0, 10.75, 9.50])\n",
    "pprint.pprint(my_house, indent =2)"
   ]
  },
  {
   "cell_type": "markdown",
   "metadata": {},
   "source": [
    "## Boolean operators and masking  \n",
    "#### 1. Compare \n",
    "1. == (equal) , != (not equal), >= (larger or equal to), <= (less or equal to) \n",
    "2. and, or, not (short-circuiting behaving operators)\n",
    "3. np.logical_or or _and: Element-wise comparison\n",
    "4. & : And that is not short-circuiting"
   ]
  },
  {
   "cell_type": "code",
   "execution_count": 2,
   "metadata": {},
   "outputs": [
    {
     "ename": "NameError",
     "evalue": "name 'my_house' is not defined",
     "output_type": "error",
     "traceback": [
      "\u001b[0;31m---------------------------------------------------------------------------\u001b[0m",
      "\u001b[0;31mNameError\u001b[0m                                 Traceback (most recent call last)",
      "\u001b[0;32m<ipython-input-2-d048dc2d915c>\u001b[0m in \u001b[0;36m<module>\u001b[0;34m()\u001b[0m\n\u001b[1;32m      5\u001b[0m \u001b[0;34m\u001b[0m\u001b[0m\n\u001b[1;32m      6\u001b[0m \u001b[0;31m# my_house greater than 18.5 or smaller than 10\u001b[0m\u001b[0;34m\u001b[0m\u001b[0;34m\u001b[0m\u001b[0m\n\u001b[0;32m----> 7\u001b[0;31m print(np.logical_or(my_house > 18.5,\n\u001b[0m\u001b[1;32m      8\u001b[0m                     my_house <10))\n\u001b[1;32m      9\u001b[0m \u001b[0;34m\u001b[0m\u001b[0m\n",
      "\u001b[0;31mNameError\u001b[0m: name 'my_house' is not defined"
     ]
    }
   ],
   "source": [
    "# Create arrays\n",
    "your_house = np.array([14.0, 24.0, 14.25, 9.0])\n",
    "\n",
    "# my_house greater than 18.5 or smaller than 10\n",
    "print(np.logical_or(my_house > 18.5,\n",
    "                    my_house <10))\n",
    "\n",
    "# Both my_house and your_house smaller than 11\n",
    "print(np.logical_and(my_house < 11,\n",
    "your_house < 11))"
   ]
  },
  {
   "cell_type": "code",
   "execution_count": null,
   "metadata": {},
   "outputs": [],
   "source": []
  },
  {
   "cell_type": "markdown",
   "metadata": {},
   "source": [
    "#### 2. Masking\n",
    "- Use np.searchsorted\n",
    "np.searchsorted(a,v, side = {'left', 'right'}, sorter= None)\n",
    "1. input: 1-D array-like (a), which value to sort out (v), what side to sort (side), sorter = None\n",
    "2. Output: Indicies where elements should be inserted to maintain order "
   ]
  },
  {
   "cell_type": "markdown",
   "metadata": {},
   "source": [
    "## Masking examples \n",
    "\n",
    "- [numpy.ma module](https://docs.scipy.org/doc/numpy/reference/maskedarray.generic.html)\n",
    "\n",
    "\n",
    "- Convert(copy and cast) between data types using np.ndarray.astype or pd.Dataframe.astype\n",
    "______\n",
    "```python\n",
    "hit=(radr_reflectivity == radr_missing)\n",
    "radr_reflectivity[hit] = np.nan\n",
    "zvals = radr_reflectivity/scale\n",
    "zvals = ma.masked_invalid(zvals)\n",
    "```\n",
    "(object).dtype(np.'' or 'int32')\n",
    "\n",
    "[What are Data types](https://docs.scipy.org/doc/numpy-1.13.0/reference/arrays.dtypes.html#arrays-dtypes-constructing)\n",
    "\n",
    "| Data types |  |  |\n",
    "| --- | --- | --- |\n",
    "| np.float | np.int | 'int32' |"
   ]
  },
  {
   "cell_type": "markdown",
   "metadata": {},
   "source": [
    "# To create user-defined function: "
   ]
  },
  {
   "cell_type": "code",
   "execution_count": 21,
   "metadata": {},
   "outputs": [
    {
     "data": {
      "text/plain": [
       "0.0003878509448876288"
      ]
     },
     "execution_count": 21,
     "metadata": {},
     "output_type": "execute_result"
    }
   ],
   "source": [
    "def Elambda(wave1, temp): \n",
    "    \"\"\"\n",
    "    Role:\n",
    "    \n",
    "    Parameters\n",
    "    ____\n",
    "       wave1.dtypes \n",
    "       temp.dtypes\n",
    "   Returns:\n",
    "   _____\n",
    "       Elambda.dtypes \n",
    "           (What really is)\n",
    "    \"\"\"\n",
    "    c,h= 1.0,3.0\n",
    "    Elambda_val = wave1*np.pi / (h**5*temp)\n",
    "    return Elambda_val\n",
    "\n",
    "Elambda(3,100)"
   ]
  },
  {
   "cell_type": "markdown",
   "metadata": {},
   "source": [
    "## Data types:\n",
    "- list \n",
    "    - Create by using [] \n",
    "    - 2D: [[something]]\n",
    "- List into array \n",
    "    - array(list) \n",
    "- Indexing:\n",
    "    - [] : for 1D \n",
    "    - [something,something]: 2D\n",
    "    "
   ]
  },
  {
   "cell_type": "code",
   "execution_count": 3,
   "metadata": {},
   "outputs": [
    {
     "name": "stdout",
     "output_type": "stream",
     "text": [
      "11\n"
     ]
    }
   ],
   "source": [
    "data = np.array([[11,22], [2,43], [23,15]])\n",
    "print(data[0,0])# [11,22] which"
   ]
  },
  {
   "cell_type": "code",
   "execution_count": 2,
   "metadata": {},
   "outputs": [
    {
     "name": "stdout",
     "output_type": "stream",
     "text": [
      "jay garrick\n",
      "barry allen\n",
      "wally west\n",
      "bart allen\n",
      "jay garrick\n",
      "barry allen\n",
      "wally west\n",
      "bart allen\n"
     ]
    }
   ],
   "source": [
    "# Create a list of strings: flash\n",
    "flash = ['jay garrick', 'barry allen', 'wally west', 'bart allen']\n",
    "# Print each list item in flash using a for loop\n",
    "for person in flash: \n",
    "    print(person)\n",
    "\n",
    "\n",
    "# Create an iterator for flash: superspeed\n",
    "superspeed = iter(flash)\n",
    "\n",
    "# Print each item from the iterator\n",
    "print(next(superspeed))\n",
    "print(next(superspeed))\n",
    "print(next(superspeed))\n",
    "print(next(superspeed))"
   ]
  },
  {
   "cell_type": "code",
   "execution_count": 3,
   "metadata": {},
   "outputs": [
    {
     "name": "stdout",
     "output_type": "stream",
     "text": [
      "[(0, 'charles xavier'), (1, 'bobby drake'), (2, 'kurt wagner'), (3, 'max eisenhardt'), (4, 'kitty pryde')]\n",
      "0 charles xavier\n",
      "1 bobby drake\n",
      "2 kurt wagner\n",
      "3 max eisenhardt\n",
      "4 kitty pryde\n",
      "1 charles xavier\n",
      "2 bobby drake\n",
      "3 kurt wagner\n",
      "4 max eisenhardt\n",
      "5 kitty pryde\n",
      "metal\n"
     ]
    }
   ],
   "source": [
    "# Create a list of strings: mutants\n",
    "mutants = ['charles xavier', \n",
    "            'bobby drake', \n",
    "            'kurt wagner', \n",
    "            'max eisenhardt', \n",
    "            'kitty pryde']\n",
    "powers = ['metal',\n",
    "         'fire',\n",
    "         'water',\n",
    "         'sound',\n",
    "         'boom']\n",
    "\n",
    "\n",
    "# Create a list of tuples: mutant_list\n",
    "mutant_list = list(enumerate(mutants))\n",
    "\n",
    "# Print the list of tuples\n",
    "print(mutant_list)\n",
    "\n",
    "# Unpack and print the tuple pairs\n",
    "for index1, value1 in enumerate(mutants):\n",
    "    print(index1, value1)\n",
    "\n",
    "# Change the start index\n",
    "for index2, value2 in enumerate(mutants, start=1):\n",
    "    print(index2, value2)\n",
    "\n",
    "# Dictionaries \n",
    "ind_xavier = mutants.index('charles xavier')\n",
    "print(powers[ind_xavier])\n"
   ]
  },
  {
   "cell_type": "markdown",
   "metadata": {},
   "source": [
    "## Dictionaries \n",
    "### 1. Create empty dictionary \n",
    "- either by dict() or {}"
   ]
  },
  {
   "cell_type": "code",
   "execution_count": 4,
   "metadata": {},
   "outputs": [
    {
     "name": "stdout",
     "output_type": "stream",
     "text": [
      "{'charles xavier': 'metal', 'bobby drake': 'fire', 'kurt wagner': 'water', 'max eisenhardt': 'sound', 'kitty pryde': 'boom'}\n",
      "dict_keys(['charles xavier', 'bobby drake', 'kurt wagner', 'max eisenhardt', 'kitty pryde'])\n",
      "metal\n",
      "{'bobby drake': 'fire', 'kurt wagner': 'water', 'max eisenhardt': 'sound', 'kitty pryde': 'boom', 'brian': 'knowledge'}\n"
     ]
    }
   ],
   "source": [
    "# Create dictionaries \n",
    "# To create dictionary {'ind' : 'name', ...} \n",
    "xmen = {'charles xavier': 'metal', 'bobby drake': 'fire',\n",
    "       'kurt wagner': 'water', 'max eisenhardt': 'sound',\n",
    "       'kitty pryde': 'boom'}\n",
    "print(xmen)\n",
    "print(xmen.keys())\n",
    "print(xmen['charles xavier'])\n",
    "\n",
    "# Manipulate dictionary \n",
    "xmen['brian'] = 'knowledge'\n",
    "# Update syntax is the same as above\n",
    "\n",
    "# Remove charles xavier \n",
    "del(xmen['charles xavier']) # Whole thing corresponding to such xavier gets erased\n",
    "print(xmen)\n",
    "\n",
    "# dictionary within dictionaries\n",
    "# Use this syntax: '{'' : {'', ''}, ...}'\n",
    "# How to access use xmen['']['']"
   ]
  },
  {
   "cell_type": "code",
   "execution_count": 5,
   "metadata": {},
   "outputs": [
    {
     "name": "stdout",
     "output_type": "stream",
     "text": [
      "metal\n"
     ]
    }
   ],
   "source": [
    "# Or you can create such by... \n",
    "hero = ['xavier', 'drake']\n",
    "abilities = ['metal', 'fire']\n",
    "my_hero = {'xmen': hero,\n",
    "          'abilities': abilities}\n",
    "print(my_hero['abilities'][0])"
   ]
  },
  {
   "cell_type": "markdown",
   "metadata": {},
   "source": [
    "## About dataframe \n",
    "Instruction in using such dataframe \n",
    "1. import pandas as pd \n",
    "2. Dictionary to dt \n",
    "- var = []"
   ]
  },
  {
   "cell_type": "code",
   "execution_count": 6,
   "metadata": {},
   "outputs": [
    {
     "name": "stdout",
     "output_type": "stream",
     "text": [
      "     xmen abilities\n",
      "0  xavier     metal\n",
      "1   drake      fire\n"
     ]
    }
   ],
   "source": [
    "moviexmen = pd.DataFrame(my_hero)\n",
    "print(moviexmen)"
   ]
  },
  {
   "cell_type": "code",
   "execution_count": 7,
   "metadata": {},
   "outputs": [
    {
     "name": "stdout",
     "output_type": "stream",
     "text": [
      "('charles xavier', 'metal') ('bobby drake', 'fire') ('kurt wagner', 'water') ('max eisenhardt', 'sound') ('kitty pryde', 'boom')\n",
      "False\n",
      "False\n"
     ]
    }
   ],
   "source": [
    "# Create a zip object from mutants and powers: z1\n",
    "z1 = zip(mutants, powers)\n",
    "\n",
    "# Print the tuples in z1 by unpacking with *\n",
    "print(*z1)\n",
    "\n",
    "# Re-create a zip object from mutants and powers: z1\n",
    "z1 = zip(mutants, powers)\n",
    "\n",
    "# 'Unzip' the tuples in z1 by unpacking with * and zip(): result1, result2\n",
    "result1, result2 = zip(*z1)\n",
    "\n",
    "# Check if unpacked tuples are equivalent to original tuples\n",
    "print(result1 == mutants)\n",
    "print(result2 == powers)\n"
   ]
  },
  {
   "cell_type": "code",
   "execution_count": 0,
   "metadata": {},
   "outputs": [],
   "source": []
  },
  {
   "cell_type": "markdown",
   "metadata": {},
   "source": [
    "## Use numpy for statistical simulation (source: datacamp) "
   ]
  },
  {
   "cell_type": "markdown",
   "metadata": {},
   "source": [
    "- How to display the results:\n",
    "\n",
    "1. Use this following format \n",
    "2. "
   ]
  },
  {
   "cell_type": "code",
   "execution_count": 8,
   "metadata": {},
   "outputs": [
    {
     "name": "stdout",
     "output_type": "stream",
     "text": [
      "|Lambda - sample mean| with 3 samples is 0.33333333333333304 and with 1000 samples is 0.07699999999999996. \n"
     ]
    }
   ],
   "source": [
    "# Initialize seed and parameters\n",
    "import numpy as np\n",
    "np.random.seed(123) \n",
    "lam, size_1, size_2 = 5, 3, 1000  \n",
    "\n",
    "# Draw samples & calculate absolute difference between lambda and sample mean\n",
    "samples_1 = np.random.poisson(lam, size_1)\n",
    "samples_2 = np.random.poisson(lam, size_2)\n",
    "answer_1 = abs(np.mean(samples_1)-lam)\n",
    "answer_2 = abs(np.mean(samples_2)-lam) \n",
    "\n",
    "print(\"|Lambda - sample mean| with {} samples is {} and with {} samples is {}. \".format(size_1, answer_1, size_2, answer_2))"
   ]
  },
  {
   "cell_type": "code",
   "execution_count": 9,
   "metadata": {},
   "outputs": [
    {
     "name": "stdout",
     "output_type": "stream",
     "text": [
      "[0.16666667 0.16666667 0.16666667 0.16666667 0.16666667 0.16666667]\n",
      "Outcome of the throw: 4\n"
     ]
    }
   ],
   "source": [
    "# Define die outcomes and probabilities\n",
    "die, probabilities, throws = [1,2,3,4,5,6], np.repeat(1/6,6), 1\n",
    "print(probabilities)\n",
    "# Use np.random.choice to throw the die once and record the outcome\n",
    "outcome = np.random.choice(die, size=throws, p=probabilities)\n",
    "print(\"Outcome of the throw: {}\".format(outcome[0]))\n",
    "\n"
   ]
  },
  {
   "cell_type": "code",
   "execution_count": 0,
   "metadata": {},
   "outputs": [],
   "source": []
  }
 ],
 "metadata": {
  "kernelspec": {
   "display_name": "Python 3",
   "language": "python",
   "name": "python3"
  },
  "language_info": {
   "codemirror_mode": {
    "name": "ipython",
    "version": 3
   },
   "file_extension": ".py",
   "mimetype": "text/x-python",
   "name": "python",
   "nbconvert_exporter": "python",
   "pygments_lexer": "ipython3",
   "version": "3.6.8"
  }
 },
 "nbformat": 4,
 "nbformat_minor": 1
}
